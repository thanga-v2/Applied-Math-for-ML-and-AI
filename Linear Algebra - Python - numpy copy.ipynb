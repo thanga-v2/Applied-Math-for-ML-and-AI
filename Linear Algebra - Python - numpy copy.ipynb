{
 "cells": [
  {
   "cell_type": "code",
   "execution_count": 1,
   "id": "4327c4f6-5c3b-4923-bc73-13013c81c3ee",
   "metadata": {},
   "outputs": [
    {
     "data": {
      "text/plain": [
       "13"
      ]
     },
     "execution_count": 1,
     "metadata": {},
     "output_type": "execute_result"
    }
   ],
   "source": [
    "11+2"
   ]
  },
  {
   "cell_type": "code",
   "execution_count": 2,
   "id": "f8b00f50-28be-45e8-a539-6dccf2a152ea",
   "metadata": {},
   "outputs": [],
   "source": [
    "a  = 5"
   ]
  },
  {
   "cell_type": "code",
   "execution_count": 3,
   "id": "cacaf20e-1500-48df-bd68-1e4f5088a4e9",
   "metadata": {},
   "outputs": [
    {
     "data": {
      "text/plain": [
       "5"
      ]
     },
     "execution_count": 3,
     "metadata": {},
     "output_type": "execute_result"
    }
   ],
   "source": [
    "a"
   ]
  },
  {
   "cell_type": "code",
   "execution_count": 4,
   "id": "d7132f35-d533-4b95-a6aa-263199395719",
   "metadata": {},
   "outputs": [
    {
     "name": "stdout",
     "output_type": "stream",
     "text": [
      "5\n"
     ]
    }
   ],
   "source": [
    "print(a)"
   ]
  },
  {
   "cell_type": "code",
   "execution_count": 14,
   "id": "4805c557-602d-48b7-9760-e66d5fe22c7f",
   "metadata": {},
   "outputs": [
    {
     "data": {
      "text/plain": [
       "[1, 2, 3, 4, 5, 6, 8]"
      ]
     },
     "execution_count": 14,
     "metadata": {},
     "output_type": "execute_result"
    }
   ],
   "source": [
    "numlist = [1,2,3,4,5,6,8]\n",
    "numlist"
   ]
  },
  {
   "cell_type": "code",
   "execution_count": 18,
   "id": "d506af4a-8fb9-4b3b-b7ab-669174286d06",
   "metadata": {},
   "outputs": [
    {
     "name": "stdout",
     "output_type": "stream",
     "text": [
      "4.142857142857143\n",
      "[1.         1.41421356 1.73205081 2.         2.23606798 2.44948974\n",
      " 2.82842712]\n",
      "[2.71828183e+00 7.38905610e+00 2.00855369e+01 5.45981500e+01\n",
      " 1.48413159e+02 4.03428793e+02 2.98095799e+03]\n"
     ]
    }
   ],
   "source": [
    "# we can't do much operations using basic python. hence we are having modules and importing them\n",
    "\n",
    "# ex absolute of -5 -> abs(-5)\n",
    "\n",
    "abs(-5)\n",
    "\n",
    "# how to take average of the list we created before?\n",
    "# importing the numpy module\n",
    "import numpy as npy\n",
    "\n",
    "print(npy.mean(numlist))\n",
    "print(npy.sqrt(numlist))\n",
    "print(npy.exp(numlist))"
   ]
  },
  {
   "cell_type": "code",
   "execution_count": 24,
   "id": "c1e57744-a327-48ea-8450-55465bd29e7c",
   "metadata": {},
   "outputs": [
    {
     "name": "stdout",
     "output_type": "stream",
     "text": [
      "[ 1.          6.57142857 12.14285714 17.71428571 23.28571429 28.85714286\n",
      " 34.42857143 40.        ]\n",
      "[ 1.          1.59183673  2.18367347  2.7755102   3.36734694  3.95918367\n",
      "  4.55102041  5.14285714  5.73469388  6.32653061  6.91836735  7.51020408\n",
      "  8.10204082  8.69387755  9.28571429  9.87755102 10.46938776 11.06122449\n",
      " 11.65306122 12.24489796 12.83673469 13.42857143 14.02040816 14.6122449\n",
      " 15.20408163 15.79591837 16.3877551  16.97959184 17.57142857 18.16326531\n",
      " 18.75510204 19.34693878 19.93877551 20.53061224 21.12244898 21.71428571\n",
      " 22.30612245 22.89795918 23.48979592 24.08163265 24.67346939 25.26530612\n",
      " 25.85714286 26.44897959 27.04081633 27.63265306 28.2244898  28.81632653\n",
      " 29.40816327 30.        ]\n"
     ]
    }
   ],
   "source": [
    "# linear space\n",
    "# linspace(start,max,no. of results)\n",
    "\n",
    "# eg. linspace(1,100,10)\n",
    "\n",
    "print(npy.linspace(1,40,8))\n",
    "print(npy.linspace(1,30))"
   ]
  },
  {
   "cell_type": "code",
   "execution_count": 38,
   "id": "2ad4059b-dafe-4a52-8da2-a1c7207361da",
   "metadata": {},
   "outputs": [
    {
     "name": "stdout",
     "output_type": "stream",
     "text": [
      "[  4.          10.85714286  17.71428571  24.57142857  31.42857143\n",
      "  38.28571429  45.14285714  52.          58.85714286  65.71428571\n",
      "  72.57142857  79.42857143  86.28571429  93.14285714 100.        ]\n",
      "\n",
      " [  4.  11.  18.  25.  32.  39.  46.  52.  59.  66.  73.  80.  87.  94.\n",
      " 100.]\n",
      "\n",
      " 11.0\n",
      "\n",
      " [ 2.          3.29501788  4.20883425  4.95695759  5.60611911  6.18754509\n",
      "  6.71884344  7.21110255  7.6718409   8.10643483  8.51888658  8.91227083\n",
      "  9.2890104   9.65105472 10.        ]\n"
     ]
    }
   ],
   "source": [
    "# assignment :\n",
    "\n",
    "# list of 15 numbers from 4 50 100\n",
    "\n",
    "sample = npy.linspace(4,100,15)\n",
    "print(npy.linspace(4,100,15))\n",
    "\n",
    "# round those numbers to nearest int\n",
    "\n",
    "round = npy.ceil(sample)\n",
    "print('\\n',round)\n",
    "\n",
    "# print the second element \n",
    "\n",
    "sec_elem = round[1]\n",
    "print('\\n',sec_elem)\n",
    "\n",
    "# print square root of each number \n",
    "\n",
    "sqr_elem = npy.sqrt(sample)\n",
    "print('\\n', sqr_elem)"
   ]
  }
 ],
 "metadata": {
  "kernelspec": {
   "display_name": "Python 3 (ipykernel)",
   "language": "python",
   "name": "python3"
  },
  "language_info": {
   "codemirror_mode": {
    "name": "ipython",
    "version": 3
   },
   "file_extension": ".py",
   "mimetype": "text/x-python",
   "name": "python",
   "nbconvert_exporter": "python",
   "pygments_lexer": "ipython3",
   "version": "3.9.5"
  }
 },
 "nbformat": 4,
 "nbformat_minor": 5
}
