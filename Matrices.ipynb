{
 "cells": [
  {
   "cell_type": "code",
   "execution_count": 2,
   "id": "fc4e80be-1f2b-428d-85c2-bf1095262c78",
   "metadata": {},
   "outputs": [],
   "source": [
    "import numpy as np\n",
    "import matplotlib.pyplot as plt"
   ]
  },
  {
   "cell_type": "code",
   "execution_count": 5,
   "id": "f228d50c-5d49-499e-9443-448c9c3095a9",
   "metadata": {},
   "outputs": [
    {
     "data": {
      "text/plain": [
       "array([[1., 0., 0., 0.],\n",
       "       [0., 1., 0., 0.],\n",
       "       [0., 0., 1., 0.],\n",
       "       [0., 0., 0., 1.]])"
      ]
     },
     "execution_count": 5,
     "metadata": {},
     "output_type": "execute_result"
    }
   ],
   "source": [
    "np.eye(4)\n",
    "\n",
    "# 4 * 4"
   ]
  },
  {
   "cell_type": "code",
   "execution_count": 9,
   "id": "41bb9f61-21a8-43a3-911f-2db2d185eca8",
   "metadata": {},
   "outputs": [
    {
     "data": {
      "text/plain": [
       "array([0., 0., 0., 0., 0.])"
      ]
     },
     "execution_count": 9,
     "metadata": {},
     "output_type": "execute_result"
    }
   ],
   "source": [
    "\n",
    "\n",
    "# wrong one\n",
    "\n",
    "np.zeros(5) \n",
    "\n"
   ]
  },
  {
   "cell_type": "code",
   "execution_count": 10,
   "id": "0e0c2e34-05ec-4390-b67f-5944829675cf",
   "metadata": {},
   "outputs": [
    {
     "data": {
      "text/plain": [
       "array([[0., 0., 0., 0., 0.],\n",
       "       [0., 0., 0., 0., 0.],\n",
       "       [0., 0., 0., 0., 0.]])"
      ]
     },
     "execution_count": 10,
     "metadata": {},
     "output_type": "execute_result"
    }
   ],
   "source": [
    "\n",
    "# correct method\n",
    "\n",
    "np.zeros((3,5))\n"
   ]
  },
  {
   "cell_type": "code",
   "execution_count": 11,
   "id": "6a8a7fa7-cf8b-47eb-b462-151a51f9ebfd",
   "metadata": {},
   "outputs": [
    {
     "data": {
      "text/plain": [
       "array([[-4, -4, -4, -4, -4, -4],\n",
       "       [-4, -4, -4, -4, -4, -4],\n",
       "       [-4, -4, -4, -4, -4, -4],\n",
       "       [-4, -4, -4, -4, -4, -4]])"
      ]
     },
     "execution_count": 11,
     "metadata": {},
     "output_type": "execute_result"
    }
   ],
   "source": [
    "np.full((4,6),-4)"
   ]
  },
  {
   "cell_type": "code",
   "execution_count": 22,
   "id": "39397116-496e-4de6-b568-ef2818fbe740",
   "metadata": {},
   "outputs": [
    {
     "name": "stdout",
     "output_type": "stream",
     "text": [
      "[[ 7 14]\n",
      " [28 63]]\n",
      "[[ 68 -17]\n",
      " [  0  51]]\n",
      "[[ -4  -8]\n",
      " [ -4 -36]\n",
      " [ 16   8]]\n"
     ]
    },
    {
     "data": {
      "text/plain": [
       "array([[ 75,  -3],\n",
       "       [ 28, 114]])"
      ]
     },
     "execution_count": 22,
     "metadata": {},
     "output_type": "execute_result"
    }
   ],
   "source": [
    "a = np.array([[1,2],[4,9]])\n",
    "b = np.array([[4,-1],[0,3]])\n",
    "c = np.array([[1,2],[1,9],[-4,-2]])\n",
    "\n",
    "\n",
    "scalar_a = 7*a\n",
    "print(scalar_a)\n",
    "\n",
    "scalar_b = 17*b\n",
    "print(scalar_b)\n",
    "\n",
    "scalar_c = -4*c\n",
    "print(scalar_c)\n",
    "\n",
    "consolidated_matrix = scalar_a + scalar_b\n",
    "consolidated_matrix"
   ]
  },
  {
   "cell_type": "code",
   "execution_count": 31,
   "id": "abca688c-e1cf-4159-861f-d1079f64479d",
   "metadata": {},
   "outputs": [
    {
     "data": {
      "text/plain": [
       "[<matplotlib.lines.Line2D at 0x117015c70>,\n",
       " <matplotlib.lines.Line2D at 0x117015ca0>]"
      ]
     },
     "execution_count": 31,
     "metadata": {},
     "output_type": "execute_result"
    },
    {
     "data": {
      "image/png": "[encoded data removed]",
      "text/plain": [
       "<Figure size 640x480 with 1 Axes>"
      ]
     },
     "metadata": {},
     "output_type": "display_data"
    }
   ],
   "source": [
    "salary = np.array([[10000,8000],[10000,5000],[1000,50]])\n",
    "salary\n",
    "plt.plot(salary)"
   ]
  },
  {
   "cell_type": "code",
   "execution_count": 34,
   "id": "40822c68-4e74-4134-b415-f8601ee94225",
   "metadata": {},
   "outputs": [
    {
     "name": "stdout",
     "output_type": "stream",
     "text": [
      "[[1 2 3]\n",
      " [4 0 5]]\n",
      "[[1 4]\n",
      " [2 0]\n",
      " [3 5]]\n"
     ]
    }
   ],
   "source": [
    "\n",
    "\n",
    "\n",
    "# transpose\n",
    "\n",
    "\n",
    "# transposing a vector\n",
    "\n",
    "a = np.array([[1,2,3],[4,0,5]])\n",
    "\n",
    "print(a)\n",
    "\n",
    "print(a.T)"
   ]
  },
  {
   "cell_type": "code",
   "execution_count": 38,
   "id": "c2d92cd3-99e5-44c2-a7e3-979e411140ce",
   "metadata": {},
   "outputs": [
    {
     "name": "stdout",
     "output_type": "stream",
     "text": [
      "[[1 2 3]] \n",
      "\n",
      "[[1]\n",
      " [2]\n",
      " [3]]\n",
      "[[ 1  2  3]\n",
      " [ 6  7 11]]\n",
      "\n",
      " [[ 1  6]\n",
      " [ 2  7]\n",
      " [ 3 11]]\n"
     ]
    }
   ],
   "source": [
    "\n",
    "\n",
    "\n",
    "# transpose\n",
    "\n",
    "\n",
    "# transposing a matrix of 2dimnesion\n",
    "\n",
    "a = np.array([[1,2,3]],ndmin=2)\n",
    "\n",
    "print(a,'\\n')\n",
    "\n",
    "print(a.T)\n",
    "\n",
    "b = np.array([[1,2,3],[6,7,11]],ndmin=2)\n",
    "\n",
    "print(b)\n",
    "\n",
    "print('\\n',b.T)"
   ]
  },
  {
   "cell_type": "code",
   "execution_count": 63,
   "id": "9e127e83-4d5d-4206-95d4-714d7c4444f0",
   "metadata": {},
   "outputs": [
    {
     "name": "stdout",
     "output_type": "stream",
     "text": [
      "[[-0.25482492  0.59924282 -1.73995754]\n",
      " [-0.58764111  0.3530271  -0.88685818]\n",
      " [-0.58630602 -0.02198384  0.1653807 ]]\n"
     ]
    }
   ],
   "source": [
    "\n",
    "\n",
    "# a random 3*3 matrix\n",
    "\n",
    "M = np.random.randn(3,3)\n",
    "print(M)\n",
    "\n"
   ]
  },
  {
   "cell_type": "code",
   "execution_count": 12,
   "id": "fce860c2-484f-457d-baec-bcb4a3137a56",
   "metadata": {},
   "outputs": [
    {
     "name": "stdout",
     "output_type": "stream",
     "text": [
      "[[-0.22241743  0.62235049  0.95642166]\n",
      " [ 0.57367227 -1.33354182 -0.17441769]\n",
      " [-1.17434505  0.57992757  2.43534452]]\n"
     ]
    },
    {
     "data": {
      "text/plain": [
       "<matplotlib.image.AxesImage at 0x11555c160>"
      ]
     },
     "execution_count": 12,
     "metadata": {},
     "output_type": "execute_result"
    },
    {
     "data": {
      "image/png": "[encoded data removed]",
      "text/plain": [
       "<Figure size 640x480 with 1 Axes>"
      ]
     },
     "metadata": {},
     "output_type": "display_data"
    }
   ],
   "source": [
    "\n",
    "\n",
    "# a random 3*3 matrix\n",
    "\n",
    "M = np.random.randn(3,3)\n",
    "print(M)\n",
    "\n",
    "plt.imshow(M)\n"
   ]
  },
  {
   "cell_type": "code",
   "execution_count": 4,
   "id": "6c4dd602-6fce-416a-a0dd-050847a1ca3d",
   "metadata": {},
   "outputs": [
    {
     "name": "stdout",
     "output_type": "stream",
     "text": [
      "\n",
      " [[ -5.  10.]\n",
      " [ -9.   2.]\n",
      " [-12.  -6.]]\n",
      "[[ -5.  -9. -12.]\n",
      " [ 10.   2.  -6.]]\n",
      "\n",
      " [[ -5.  10.]\n",
      " [ -9.   2.]\n",
      " [-12.  -6.]]\n"
     ]
    }
   ],
   "source": [
    "\n",
    "# A matrix with a random number\n",
    "\n",
    "\n",
    "\n",
    "M = np.round(10*np.random.randn(3,2))\n",
    "print('\\n',M)\n",
    "Mtx = M.T\n",
    "print(Mtx)\n",
    "print('\\n',Mtx.T)"
   ]
  },
  {
   "cell_type": "code",
   "execution_count": 69,
   "id": "95244e8f-53be-4488-829d-4ae043862f55",
   "metadata": {},
   "outputs": [
    {
     "name": "stdout",
     "output_type": "stream",
     "text": [
      "[[  9.  -5.   0.  -8.   6.]\n",
      " [  1.   4. -12.  -6.  12.]\n",
      " [ 15.   0.  -5.   1.  -6.]\n",
      " [-12.   6. -15.  -3.   2.]]\n",
      " \n",
      "[[  1.  -2.  -5.   4.   2.]\n",
      " [  8.   2.  -4.  -4.   2.]\n",
      " [  5.   6.   3.  -0.  -3.]\n",
      " [ 10. -10.  -3.  -3.  -2.]]\n",
      "\n",
      " [[  9.   1.  15. -12.]\n",
      " [ -5.   4.   0.   6.]\n",
      " [  0. -12.  -5. -15.]\n",
      " [ -8.  -6.   1.  -3.]\n",
      " [  6.  12.  -6.   2.]]\n",
      "\n",
      " [[ -28.  194.   32.   68.   -1.]\n",
      " [  87.  -42.   -9.  -54.  -14.]\n",
      " [-271.   96.   78.   93.   21.]\n",
      " [ -81.   40.   76.    1.  -25.]\n",
      " [  92.  -44. -102.  -30.   50.]]\n"
     ]
    }
   ],
   "source": [
    "\n",
    "\n",
    "# Matrix multiplications -> np.matmul(M1,M2)\n",
    "\n",
    "M1 = np.round(8*np.random.randn(4,5))\n",
    "M2 = np.round(5*np.random.randn(4,5))\n",
    "\n",
    "print(M1)\n",
    "print(' ' )\n",
    "print(M2)\n",
    "\n",
    "# MatMul = np.matmul(M1,M2)\n",
    "\n",
    "# above will throw error \n",
    "\n",
    "# M1 = 4 x 5 \n",
    "# M2 = 4 x 5\n",
    "\n",
    "# we cannot multiply as the coloumn of first matric and row of second matrix isn't the same\n",
    "# however we can apply transpose. \n",
    "\n",
    "# lets transpose M1 from 4 rows 5 coloumns to 5 rows 4 coloumns\n",
    "\n",
    "\n",
    "M1 = M1.T\n",
    "print('\\n',M1)\n",
    "\n",
    "MatMul = np.matmul(M1,M2)\n",
    "\n",
    "print('\\n',MatMul)\n",
    "\n"
   ]
  },
  {
   "cell_type": "code",
   "execution_count": 93,
   "id": "f79d4338-0b72-4bb3-be84-5e2e0ba07424",
   "metadata": {},
   "outputs": [
    {
     "name": "stdout",
     "output_type": "stream",
     "text": [
      "teh real matrix [[10 45 67]\n",
      " [ 1  4  5]\n",
      " [ 2 34  6]] \n",
      "\n",
      "\n",
      " [[10. 45. 67.]\n",
      " [ 1.  4.  5.]\n",
      " [ 2. 34.  6.]]\n"
     ]
    }
   ],
   "source": [
    "\n",
    "# assignment\n",
    "\n",
    "# ceate a 3x3 matrix of integers\n",
    "M1 = np.array([[10,45,67],[1,4,5],[2,34,6]])\n",
    "print(\"teh real matrix\",M1,'\\n')\n",
    "\n",
    "# multiply by 1 identity matrix\n",
    "MI = np.eye(3)\n",
    "\n",
    "A2 = np.matmul(M1,MI)\n",
    "\n",
    "print('\\n',A2)\n",
    "\n",
    "# The resulting matrix A will be the same as the original matrix M1 because multiplying any matrix \n",
    "\n",
    "# by the identity matrix results in the original matrix."
   ]
  },
  {
   "cell_type": "code",
   "execution_count": 99,
   "id": "dd624c4c-f273-4156-b12e-7ba6287809bd",
   "metadata": {},
   "outputs": [
    {
     "name": "stdout",
     "output_type": "stream",
     "text": [
      "\n",
      " [[0. 0. 0.]\n",
      " [0. 0. 0.]\n",
      " [0. 0. 0.]]\n"
     ]
    }
   ],
   "source": [
    "# assignment\n",
    "\n",
    "\n",
    "\n",
    "# multiply with zero matrix\n",
    "\n",
    "Zero = np.zeros((3,3))\n",
    "Zero\n",
    "\n",
    "A3 = np.matmul(M1,Zero)\n",
    "\n",
    "print('\\n',A3)\n",
    "\n"
   ]
  },
  {
   "cell_type": "code",
   "execution_count": 103,
   "id": "a080d67c-fb44-4f2f-9df8-c4240cc46e13",
   "metadata": {},
   "outputs": [
    {
     "name": "stdout",
     "output_type": "stream",
     "text": [
      "matrix multiplied with its transpose  [[6614  525 1952]\n",
      " [ 525   42  168]\n",
      " [1952  168 1196]]\n"
     ]
    }
   ],
   "source": [
    "# assignment\n",
    "\n",
    "\n",
    "# multiply with transpose matrix\n",
    "\n",
    "M1 = np.array([[10,45,67],[1,4,5],[2,34,6]])\n",
    "A4 = np.matmul(M1,M1.T)\n",
    "\n",
    "print(\"matrix multiplied with its transpose \",A4)\n"
   ]
  },
  {
   "cell_type": "code",
   "execution_count": 130,
   "id": "3698130d-2da2-4748-9037-d0f51fed51a7",
   "metadata": {},
   "outputs": [
    {
     "name": "stdout",
     "output_type": "stream",
     "text": [
      "\n",
      " [[-1.33247807  0.17220854 -0.00872838  1.44709348]\n",
      " [-0.09348535 -1.31611959 -0.2643918  -0.57849801]\n",
      " [-1.00956042 -0.94173304  1.4834147   0.55611766]\n",
      " [ 0.60873375  1.15335875  2.52039898  1.333456  ]]\n",
      "\n",
      " [[ 0.27055217  1.43002096 -1.0251969   0.75434067]\n",
      " [-0.36685045 -1.41622153  0.38747813 -0.37788863]\n",
      " [-0.41664585 -0.48158617  0.59223692 -0.00376807]\n",
      " [ 0.981307    1.48238769 -0.98653625  0.73954115]]\n",
      "result \n",
      " [[ 1.00000000e+00  6.46315085e-16  6.57856468e-18 -7.29109742e-17]\n",
      " [-1.03535377e-16  1.00000000e+00  1.07721072e-16 -9.08273473e-17]\n",
      " [-1.53644389e-16  2.11305634e-16  1.00000000e+00 -1.81987343e-16]\n",
      " [-1.11576494e-16 -3.46712118e-16  8.95246752e-17  1.00000000e+00]]\n"
     ]
    }
   ],
   "source": [
    "\n",
    "\n",
    "\n",
    "\n",
    "A = np.random.randn(4,4)\n",
    "\n",
    "print('\\n',A)\n",
    "\n",
    "# inverse matrix of A\n",
    "Ainv = np.linalg.inv(A)\n",
    "\n",
    "print('\\n',Ainv)\n",
    "\n",
    "\n",
    "\n",
    "# proof\n",
    "# a matrix and its inverse will always result in an identity matrix\n",
    "\n",
    "check = np.matmul(A,Ainv)\n",
    "print(\"result \\n\",check)\n",
    "\n"
   ]
  },
  {
   "cell_type": "code",
   "execution_count": 134,
   "id": "b0e56ef3-7b78-4925-bfa4-1f0ccc54df81",
   "metadata": {},
   "outputs": [
    {
     "data": {
      "text/plain": [
       "<matplotlib.image.AxesImage at 0x132cac5b0>"
      ]
     },
     "execution_count": 134,
     "metadata": {},
     "output_type": "execute_result"
    },
    {
     "data": {
      "image/png": "[encoded data removed]",
      "text/plain": [
       "<Figure size 600x500 with 3 Axes>"
      ]
     },
     "metadata": {},
     "output_type": "display_data"
    }
   ],
   "source": [
    "\n",
    "\n",
    "# lets plot everything in image using imshow\n",
    "\n",
    "\n",
    "# to plot multiple graphs we use subplots\n",
    "\n",
    "fig,axs=plt.subplots(1,3,figsize=(6,5))\n",
    "\n",
    "axs[0].imshow(A)\n",
    "axs[0].set_title('A')\n",
    "\n",
    "axs[1].imshow(Ainv)\n",
    "axs[1].set_title('A^{-1}')\n",
    "axs[2].imshow(check)\n"
   ]
  },
  {
   "cell_type": "code",
   "execution_count": 137,
   "id": "8853eed7-42d9-4ea0-b175-ca7b7094a4c9",
   "metadata": {},
   "outputs": [
    {
     "data": {
      "text/plain": [
       "Text(0.5, 1.0, 'A$A^{-1}$')"
      ]
     },
     "execution_count": 137,
     "metadata": {},
     "output_type": "execute_result"
    },
    {
     "data": {
      "image/png": "[encoded data removed]",
      "text/plain": [
       "<Figure size 600x500 with 3 Axes>"
      ]
     },
     "metadata": {},
     "output_type": "display_data"
    }
   ],
   "source": [
    "\n",
    "\n",
    "# lets plot everything in image using imshow\n",
    "\n",
    "\n",
    "# to plot multiple graphs we use subplots\n",
    "\n",
    "fig,axs=plt.subplots(1,3,figsize=(6,5))\n",
    "\n",
    "axs[0].imshow(A)\n",
    "axs[0].set_title('A')\n",
    "\n",
    "axs[1].imshow(Ainv)\n",
    "axs[1].set_title('$A^{-1}$') # leatex coding\n",
    "axs[2].imshow(check)\n",
    "axs[2].set_title('A$A^{-1}$')\n"
   ]
  },
  {
   "cell_type": "code",
   "execution_count": 145,
   "id": "1ec97bee-f5bc-46d3-abac-30279bf5754e",
   "metadata": {},
   "outputs": [
    {
     "name": "stdout",
     "output_type": "stream",
     "text": [
      "vector is \n",
      " [1 2 3]\n",
      "diagonal matrix from the vector \n",
      " [[1 0 0]\n",
      " [0 2 0]\n",
      " [0 0 3]]\n",
      "invesre of diagonal matrix \n",
      " [[1.         0.         0.        ]\n",
      " [0.         0.5        0.        ]\n",
      " [0.         0.         0.33333333]]\n"
     ]
    },
    {
     "data": {
      "text/plain": [
       "<matplotlib.image.AxesImage at 0x13315deb0>"
      ]
     },
     "execution_count": 145,
     "metadata": {},
     "output_type": "execute_result"
    },
    {
     "data": {
      "image/png": "[encoded data removed]",
      "text/plain": [
       "<Figure size 640x480 with 1 Axes>"
      ]
     },
     "metadata": {},
     "output_type": "display_data"
    }
   ],
   "source": [
    "\n",
    "\n",
    "# assignment\n",
    "\n",
    "# create a 3d vector\n",
    "vec3d = np.array([1,2,3])\n",
    "print('vector is \\n',vec3d)\n",
    "\n",
    "# care a digonal matrix from the vector\n",
    "diagM = np.diag(vec3d)\n",
    "\n",
    "print('diagonal matrix from the vector \\n',diagM)\n",
    "\n",
    "# compute the inverse of a diagonal matrix\n",
    "diagMINV = np.linalg.inv(diagM)\n",
    "print('invesre of diagonal matrix \\n',diagMINV)\n",
    "\n",
    "fig,axs=plt.subplots(1,2)\n",
    "\n",
    "axs[0].imshow(diagM)\n",
    "axs[1].imshow(diagMINV)"
   ]
  }
 ],
 "metadata": {
  "kernelspec": {
   "display_name": "Python 3 (ipykernel)",
   "language": "python",
   "name": "python3"
  },
  "language_info": {
   "codemirror_mode": {
    "name": "ipython",
    "version": 3
   },
   "file_extension": ".py",
   "mimetype": "text/x-python",
   "name": "python",
   "nbconvert_exporter": "python",
   "pygments_lexer": "ipython3",
   "version": "3.9.5"
  }
 },
 "nbformat": 4,
 "nbformat_minor": 5
}
