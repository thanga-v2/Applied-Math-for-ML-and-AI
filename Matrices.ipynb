{
 "cells": [
  {
   "cell_type": "code",
   "execution_count": 2,
   "id": "fc4e80be-1f2b-428d-85c2-bf1095262c78",
   "metadata": {},
   "outputs": [],
   "source": [
    "import numpy as np\n"
   ]
  },
  {
   "cell_type": "code",
   "execution_count": 5,
   "id": "f228d50c-5d49-499e-9443-448c9c3095a9",
   "metadata": {},
   "outputs": [
    {
     "data": {
      "text/plain": [
       "array([[1., 0., 0., 0.],\n",
       "       [0., 1., 0., 0.],\n",
       "       [0., 0., 1., 0.],\n",
       "       [0., 0., 0., 1.]])"
      ]
     },
     "execution_count": 5,
     "metadata": {},
     "output_type": "execute_result"
    }
   ],
   "source": [
    "np.eye(4)\n",
    "\n",
    "# 4 * 4"
   ]
  },
  {
   "cell_type": "code",
   "execution_count": 9,
   "id": "41bb9f61-21a8-43a3-911f-2db2d185eca8",
   "metadata": {},
   "outputs": [
    {
     "data": {
      "text/plain": [
       "array([0., 0., 0., 0., 0.])"
      ]
     },
     "execution_count": 9,
     "metadata": {},
     "output_type": "execute_result"
    }
   ],
   "source": [
    "\n",
    "\n",
    "# wrong one\n",
    "\n",
    "np.zeros(5) \n",
    "\n"
   ]
  },
  {
   "cell_type": "code",
   "execution_count": 10,
   "id": "0e0c2e34-05ec-4390-b67f-5944829675cf",
   "metadata": {},
   "outputs": [
    {
     "data": {
      "text/plain": [
       "array([[0., 0., 0., 0., 0.],\n",
       "       [0., 0., 0., 0., 0.],\n",
       "       [0., 0., 0., 0., 0.]])"
      ]
     },
     "execution_count": 10,
     "metadata": {},
     "output_type": "execute_result"
    }
   ],
   "source": [
    "\n",
    "# correct method\n",
    "\n",
    "np.zeros((3,5))\n"
   ]
  },
  {
   "cell_type": "code",
   "execution_count": 11,
   "id": "6a8a7fa7-cf8b-47eb-b462-151a51f9ebfd",
   "metadata": {},
   "outputs": [
    {
     "data": {
      "text/plain": [
       "array([[-4, -4, -4, -4, -4, -4],\n",
       "       [-4, -4, -4, -4, -4, -4],\n",
       "       [-4, -4, -4, -4, -4, -4],\n",
       "       [-4, -4, -4, -4, -4, -4]])"
      ]
     },
     "execution_count": 11,
     "metadata": {},
     "output_type": "execute_result"
    }
   ],
   "source": [
    "np.full((4,6),-4)"
   ]
  },
  {
   "cell_type": "code",
   "execution_count": 19,
   "id": "39397116-496e-4de6-b568-ef2818fbe740",
   "metadata": {},
   "outputs": [
    {
     "name": "stdout",
     "output_type": "stream",
     "text": [
      "[[ 7 14]\n",
      " [28 63]]\n",
      "[[ 68 -17]\n",
      " [  0  51]]\n",
      "[[ -4  -8]\n",
      " [ -4 -36]\n",
      " [ 16   8]]\n"
     ]
    },
    {
     "ename": "ValueError",
     "evalue": "operands could not be broadcast together with shapes (2,2) (3,2) ",
     "output_type": "error",
     "traceback": [
      "\u001b[0;31m---------------------------------------------------------------------------\u001b[0m",
      "\u001b[0;31mValueError\u001b[0m                                Traceback (most recent call last)",
      "Cell \u001b[0;32mIn[19], line 15\u001b[0m\n\u001b[1;32m     12\u001b[0m scalar_c \u001b[38;5;241m=\u001b[39m \u001b[38;5;241m-\u001b[39m\u001b[38;5;241m4\u001b[39m\u001b[38;5;241m*\u001b[39mc\n\u001b[1;32m     13\u001b[0m \u001b[38;5;28mprint\u001b[39m(scalar_c)\n\u001b[0;32m---> 15\u001b[0m consolidated_matrix \u001b[38;5;241m=\u001b[39m \u001b[43mscalar_a\u001b[49m\u001b[43m \u001b[49m\u001b[38;5;241;43m+\u001b[39;49m\u001b[43m \u001b[49m\u001b[43mscalar_b\u001b[49m\u001b[43m \u001b[49m\u001b[38;5;241;43m+\u001b[39;49m\u001b[43m \u001b[49m\u001b[43mscalar_c\u001b[49m\n\u001b[1;32m     16\u001b[0m consolidated_matrix\n",
      "\u001b[0;31mValueError\u001b[0m: operands could not be broadcast together with shapes (2,2) (3,2) "
     ]
    }
   ],
   "source": [
    "a = np.array([[1,2],[4,9]])\n",
    "b = np.array([[4,-1],[0,3]])\n",
    "c = np.array([[1,2],[1,9],[-4,-2]])\n",
    "\n",
    "\n",
    "scalar_a = 7*a\n",
    "print(scalar_a)\n",
    "\n",
    "scalar_b = 17*b\n",
    "print(scalar_b)\n",
    "\n",
    "scalar_c = -4*c\n",
    "print(scalar_c)\n",
    "\n",
    "consolidated_matrix = scalar_a + scalar_b\n",
    "consolidated_matrix"
   ]
  }
 ],
 "metadata": {
  "kernelspec": {
   "display_name": "Python 3 (ipykernel)",
   "language": "python",
   "name": "python3"
  },
  "language_info": {
   "codemirror_mode": {
    "name": "ipython",
    "version": 3
   },
   "file_extension": ".py",
   "mimetype": "text/x-python",
   "name": "python",
   "nbconvert_exporter": "python",
   "pygments_lexer": "ipython3",
   "version": "3.9.5"
  }
 },
 "nbformat": 4,
 "nbformat_minor": 5
}
